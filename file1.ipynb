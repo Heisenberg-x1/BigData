{
 "cells": [
  {
   "cell_type": "code",
   "execution_count": 6,
   "id": "initial_id",
   "metadata": {
    "collapsed": true,
    "ExecuteTime": {
     "end_time": "2023-11-17T16:03:29.886007900Z",
     "start_time": "2023-11-17T16:03:29.753453800Z"
    }
   },
   "outputs": [
    {
     "data": {
      "text/plain": "       Year Industry_aggregation_NZSIOC Industry_code_NZSIOC  \\\n0      2021                     Level 1                99999   \n1      2021                     Level 1                99999   \n2      2021                     Level 1                99999   \n3      2021                     Level 1                99999   \n4      2021                     Level 1                99999   \n...     ...                         ...                  ...   \n41710  2013                     Level 3                 ZZ11   \n41711  2013                     Level 3                 ZZ11   \n41712  2013                     Level 3                 ZZ11   \n41713  2013                     Level 3                 ZZ11   \n41714  2013                     Level 3                 ZZ11   \n\n             Industry_name_NZSIOC               Units Variable_code  \\\n0                  All industries  Dollars (millions)           H01   \n1                  All industries  Dollars (millions)           H04   \n2                  All industries  Dollars (millions)           H05   \n3                  All industries  Dollars (millions)           H07   \n4                  All industries  Dollars (millions)           H08   \n...                           ...                 ...           ...   \n41710  Food product manufacturing          Percentage           H37   \n41711  Food product manufacturing          Percentage           H38   \n41712  Food product manufacturing          Percentage           H39   \n41713  Food product manufacturing          Percentage           H40   \n41714  Food product manufacturing          Percentage           H41   \n\n                                         Variable_name      Variable_category  \\\n0                                         Total income  Financial performance   \n1      Sales, government funding, grants and subsidies  Financial performance   \n2                    Interest, dividends and donations  Financial performance   \n3                                 Non-operating income  Financial performance   \n4                                    Total expenditure  Financial performance   \n...                                                ...                    ...   \n41710                                      Quick ratio       Financial ratios   \n41711              Margin on sales of goods for resale       Financial ratios   \n41712                                 Return on equity       Financial ratios   \n41713                           Return on total assets       Financial ratios   \n41714                            Liabilities structure       Financial ratios   \n\n         Value                             Industry_code_ANZSIC06  \n0      757,504  ANZSIC06 divisions A-S (excluding classes K633...  \n1      674,890  ANZSIC06 divisions A-S (excluding classes K633...  \n2       49,593  ANZSIC06 divisions A-S (excluding classes K633...  \n3       33,020  ANZSIC06 divisions A-S (excluding classes K633...  \n4      654,404  ANZSIC06 divisions A-S (excluding classes K633...  \n...        ...                                                ...  \n41710       52  ANZSIC06 groups C111, C112, C113, C114, C115, ...  \n41711       40  ANZSIC06 groups C111, C112, C113, C114, C115, ...  \n41712       12  ANZSIC06 groups C111, C112, C113, C114, C115, ...  \n41713        5  ANZSIC06 groups C111, C112, C113, C114, C115, ...  \n41714       46  ANZSIC06 groups C111, C112, C113, C114, C115, ...  \n\n[41715 rows x 10 columns]",
      "text/html": "<div>\n<style scoped>\n    .dataframe tbody tr th:only-of-type {\n        vertical-align: middle;\n    }\n\n    .dataframe tbody tr th {\n        vertical-align: top;\n    }\n\n    .dataframe thead th {\n        text-align: right;\n    }\n</style>\n<table border=\"1\" class=\"dataframe\">\n  <thead>\n    <tr style=\"text-align: right;\">\n      <th></th>\n      <th>Year</th>\n      <th>Industry_aggregation_NZSIOC</th>\n      <th>Industry_code_NZSIOC</th>\n      <th>Industry_name_NZSIOC</th>\n      <th>Units</th>\n      <th>Variable_code</th>\n      <th>Variable_name</th>\n      <th>Variable_category</th>\n      <th>Value</th>\n      <th>Industry_code_ANZSIC06</th>\n    </tr>\n  </thead>\n  <tbody>\n    <tr>\n      <th>0</th>\n      <td>2021</td>\n      <td>Level 1</td>\n      <td>99999</td>\n      <td>All industries</td>\n      <td>Dollars (millions)</td>\n      <td>H01</td>\n      <td>Total income</td>\n      <td>Financial performance</td>\n      <td>757,504</td>\n      <td>ANZSIC06 divisions A-S (excluding classes K633...</td>\n    </tr>\n    <tr>\n      <th>1</th>\n      <td>2021</td>\n      <td>Level 1</td>\n      <td>99999</td>\n      <td>All industries</td>\n      <td>Dollars (millions)</td>\n      <td>H04</td>\n      <td>Sales, government funding, grants and subsidies</td>\n      <td>Financial performance</td>\n      <td>674,890</td>\n      <td>ANZSIC06 divisions A-S (excluding classes K633...</td>\n    </tr>\n    <tr>\n      <th>2</th>\n      <td>2021</td>\n      <td>Level 1</td>\n      <td>99999</td>\n      <td>All industries</td>\n      <td>Dollars (millions)</td>\n      <td>H05</td>\n      <td>Interest, dividends and donations</td>\n      <td>Financial performance</td>\n      <td>49,593</td>\n      <td>ANZSIC06 divisions A-S (excluding classes K633...</td>\n    </tr>\n    <tr>\n      <th>3</th>\n      <td>2021</td>\n      <td>Level 1</td>\n      <td>99999</td>\n      <td>All industries</td>\n      <td>Dollars (millions)</td>\n      <td>H07</td>\n      <td>Non-operating income</td>\n      <td>Financial performance</td>\n      <td>33,020</td>\n      <td>ANZSIC06 divisions A-S (excluding classes K633...</td>\n    </tr>\n    <tr>\n      <th>4</th>\n      <td>2021</td>\n      <td>Level 1</td>\n      <td>99999</td>\n      <td>All industries</td>\n      <td>Dollars (millions)</td>\n      <td>H08</td>\n      <td>Total expenditure</td>\n      <td>Financial performance</td>\n      <td>654,404</td>\n      <td>ANZSIC06 divisions A-S (excluding classes K633...</td>\n    </tr>\n    <tr>\n      <th>...</th>\n      <td>...</td>\n      <td>...</td>\n      <td>...</td>\n      <td>...</td>\n      <td>...</td>\n      <td>...</td>\n      <td>...</td>\n      <td>...</td>\n      <td>...</td>\n      <td>...</td>\n    </tr>\n    <tr>\n      <th>41710</th>\n      <td>2013</td>\n      <td>Level 3</td>\n      <td>ZZ11</td>\n      <td>Food product manufacturing</td>\n      <td>Percentage</td>\n      <td>H37</td>\n      <td>Quick ratio</td>\n      <td>Financial ratios</td>\n      <td>52</td>\n      <td>ANZSIC06 groups C111, C112, C113, C114, C115, ...</td>\n    </tr>\n    <tr>\n      <th>41711</th>\n      <td>2013</td>\n      <td>Level 3</td>\n      <td>ZZ11</td>\n      <td>Food product manufacturing</td>\n      <td>Percentage</td>\n      <td>H38</td>\n      <td>Margin on sales of goods for resale</td>\n      <td>Financial ratios</td>\n      <td>40</td>\n      <td>ANZSIC06 groups C111, C112, C113, C114, C115, ...</td>\n    </tr>\n    <tr>\n      <th>41712</th>\n      <td>2013</td>\n      <td>Level 3</td>\n      <td>ZZ11</td>\n      <td>Food product manufacturing</td>\n      <td>Percentage</td>\n      <td>H39</td>\n      <td>Return on equity</td>\n      <td>Financial ratios</td>\n      <td>12</td>\n      <td>ANZSIC06 groups C111, C112, C113, C114, C115, ...</td>\n    </tr>\n    <tr>\n      <th>41713</th>\n      <td>2013</td>\n      <td>Level 3</td>\n      <td>ZZ11</td>\n      <td>Food product manufacturing</td>\n      <td>Percentage</td>\n      <td>H40</td>\n      <td>Return on total assets</td>\n      <td>Financial ratios</td>\n      <td>5</td>\n      <td>ANZSIC06 groups C111, C112, C113, C114, C115, ...</td>\n    </tr>\n    <tr>\n      <th>41714</th>\n      <td>2013</td>\n      <td>Level 3</td>\n      <td>ZZ11</td>\n      <td>Food product manufacturing</td>\n      <td>Percentage</td>\n      <td>H41</td>\n      <td>Liabilities structure</td>\n      <td>Financial ratios</td>\n      <td>46</td>\n      <td>ANZSIC06 groups C111, C112, C113, C114, C115, ...</td>\n    </tr>\n  </tbody>\n</table>\n<p>41715 rows × 10 columns</p>\n</div>"
     },
     "execution_count": 6,
     "metadata": {},
     "output_type": "execute_result"
    }
   ],
   "source": [
    "import pandas as pd\n",
    "df = pd.read_csv(\"./data1.csv\")\n",
    "df"
   ]
  },
  {
   "cell_type": "code",
   "execution_count": 7,
   "outputs": [
    {
     "data": {
      "text/plain": "      Year,Industry_aggregation_NZSIOC,Industry_code_NZSIOC,Industry_name_NZSIOC,Units,Variable_code,Variable_name,Variable_category,Value,Industry_code_ANZSIC06\n0      2021,Level 1,99999,All industries,Dollars (mil...                                                                                                         \n1      2021,Level 1,99999,All industries,Dollars (mil...                                                                                                         \n2      2021,Level 1,99999,All industries,Dollars (mil...                                                                                                         \n3      2021,Level 1,99999,All industries,Dollars (mil...                                                                                                         \n4      2021,Level 1,99999,All industries,Dollars (mil...                                                                                                         \n...                                                  ...                                                                                                         \n41710  2013,Level 3,ZZ11,Food product manufacturing,P...                                                                                                         \n41711  2013,Level 3,ZZ11,Food product manufacturing,P...                                                                                                         \n41712  2013,Level 3,ZZ11,Food product manufacturing,P...                                                                                                         \n41713  2013,Level 3,ZZ11,Food product manufacturing,P...                                                                                                         \n41714  2013,Level 3,ZZ11,Food product manufacturing,P...                                                                                                         \n\n[41715 rows x 1 columns]",
      "text/html": "<div>\n<style scoped>\n    .dataframe tbody tr th:only-of-type {\n        vertical-align: middle;\n    }\n\n    .dataframe tbody tr th {\n        vertical-align: top;\n    }\n\n    .dataframe thead th {\n        text-align: right;\n    }\n</style>\n<table border=\"1\" class=\"dataframe\">\n  <thead>\n    <tr style=\"text-align: right;\">\n      <th></th>\n      <th>Year,Industry_aggregation_NZSIOC,Industry_code_NZSIOC,Industry_name_NZSIOC,Units,Variable_code,Variable_name,Variable_category,Value,Industry_code_ANZSIC06</th>\n    </tr>\n  </thead>\n  <tbody>\n    <tr>\n      <th>0</th>\n      <td>2021,Level 1,99999,All industries,Dollars (mil...</td>\n    </tr>\n    <tr>\n      <th>1</th>\n      <td>2021,Level 1,99999,All industries,Dollars (mil...</td>\n    </tr>\n    <tr>\n      <th>2</th>\n      <td>2021,Level 1,99999,All industries,Dollars (mil...</td>\n    </tr>\n    <tr>\n      <th>3</th>\n      <td>2021,Level 1,99999,All industries,Dollars (mil...</td>\n    </tr>\n    <tr>\n      <th>4</th>\n      <td>2021,Level 1,99999,All industries,Dollars (mil...</td>\n    </tr>\n    <tr>\n      <th>...</th>\n      <td>...</td>\n    </tr>\n    <tr>\n      <th>41710</th>\n      <td>2013,Level 3,ZZ11,Food product manufacturing,P...</td>\n    </tr>\n    <tr>\n      <th>41711</th>\n      <td>2013,Level 3,ZZ11,Food product manufacturing,P...</td>\n    </tr>\n    <tr>\n      <th>41712</th>\n      <td>2013,Level 3,ZZ11,Food product manufacturing,P...</td>\n    </tr>\n    <tr>\n      <th>41713</th>\n      <td>2013,Level 3,ZZ11,Food product manufacturing,P...</td>\n    </tr>\n    <tr>\n      <th>41714</th>\n      <td>2013,Level 3,ZZ11,Food product manufacturing,P...</td>\n    </tr>\n  </tbody>\n</table>\n<p>41715 rows × 1 columns</p>\n</div>"
     },
     "execution_count": 7,
     "metadata": {},
     "output_type": "execute_result"
    }
   ],
   "source": [
    "df = pd.read_table(\"./data1.csv\")\n",
    "df"
   ],
   "metadata": {
    "collapsed": false,
    "ExecuteTime": {
     "end_time": "2023-11-17T16:10:33.705040900Z",
     "start_time": "2023-11-17T16:10:33.558948800Z"
    }
   },
   "id": "ca949575b10302e9"
  },
  {
   "cell_type": "code",
   "execution_count": 8,
   "outputs": [
    {
     "data": {
      "text/plain": "  Year,Industry_aggregation_NZSIOC,Industry_code_NZSIOC,Industry_name_NZSIOC,Units,Variable_code,Variable_name,Variable_category,Value,Industry_code_ANZSIC06\n0  2021,Level 1,99999,All industries,Dollars (mil...                                                                                                         \n1  2021,Level 1,99999,All industries,Dollars (mil...                                                                                                         \n2  2021,Level 1,99999,All industries,Dollars (mil...                                                                                                         \n3  2021,Level 1,99999,All industries,Dollars (mil...                                                                                                         \n4  2021,Level 1,99999,All industries,Dollars (mil...                                                                                                         ",
      "text/html": "<div>\n<style scoped>\n    .dataframe tbody tr th:only-of-type {\n        vertical-align: middle;\n    }\n\n    .dataframe tbody tr th {\n        vertical-align: top;\n    }\n\n    .dataframe thead th {\n        text-align: right;\n    }\n</style>\n<table border=\"1\" class=\"dataframe\">\n  <thead>\n    <tr style=\"text-align: right;\">\n      <th></th>\n      <th>Year,Industry_aggregation_NZSIOC,Industry_code_NZSIOC,Industry_name_NZSIOC,Units,Variable_code,Variable_name,Variable_category,Value,Industry_code_ANZSIC06</th>\n    </tr>\n  </thead>\n  <tbody>\n    <tr>\n      <th>0</th>\n      <td>2021,Level 1,99999,All industries,Dollars (mil...</td>\n    </tr>\n    <tr>\n      <th>1</th>\n      <td>2021,Level 1,99999,All industries,Dollars (mil...</td>\n    </tr>\n    <tr>\n      <th>2</th>\n      <td>2021,Level 1,99999,All industries,Dollars (mil...</td>\n    </tr>\n    <tr>\n      <th>3</th>\n      <td>2021,Level 1,99999,All industries,Dollars (mil...</td>\n    </tr>\n    <tr>\n      <th>4</th>\n      <td>2021,Level 1,99999,All industries,Dollars (mil...</td>\n    </tr>\n  </tbody>\n</table>\n</div>"
     },
     "execution_count": 8,
     "metadata": {},
     "output_type": "execute_result"
    }
   ],
   "source": [
    "# Read the first n rows\n",
    "df.head(5)"
   ],
   "metadata": {
    "collapsed": false,
    "ExecuteTime": {
     "end_time": "2023-11-17T16:16:28.976299300Z",
     "start_time": "2023-11-17T16:16:28.941731900Z"
    }
   },
   "id": "be9a88d7969cd0ba"
  },
  {
   "cell_type": "code",
   "execution_count": 9,
   "outputs": [
    {
     "data": {
      "text/plain": "      Year,Industry_aggregation_NZSIOC,Industry_code_NZSIOC,Industry_name_NZSIOC,Units,Variable_code,Variable_name,Variable_category,Value,Industry_code_ANZSIC06\n41710  2013,Level 3,ZZ11,Food product manufacturing,P...                                                                                                         \n41711  2013,Level 3,ZZ11,Food product manufacturing,P...                                                                                                         \n41712  2013,Level 3,ZZ11,Food product manufacturing,P...                                                                                                         \n41713  2013,Level 3,ZZ11,Food product manufacturing,P...                                                                                                         \n41714  2013,Level 3,ZZ11,Food product manufacturing,P...                                                                                                         ",
      "text/html": "<div>\n<style scoped>\n    .dataframe tbody tr th:only-of-type {\n        vertical-align: middle;\n    }\n\n    .dataframe tbody tr th {\n        vertical-align: top;\n    }\n\n    .dataframe thead th {\n        text-align: right;\n    }\n</style>\n<table border=\"1\" class=\"dataframe\">\n  <thead>\n    <tr style=\"text-align: right;\">\n      <th></th>\n      <th>Year,Industry_aggregation_NZSIOC,Industry_code_NZSIOC,Industry_name_NZSIOC,Units,Variable_code,Variable_name,Variable_category,Value,Industry_code_ANZSIC06</th>\n    </tr>\n  </thead>\n  <tbody>\n    <tr>\n      <th>41710</th>\n      <td>2013,Level 3,ZZ11,Food product manufacturing,P...</td>\n    </tr>\n    <tr>\n      <th>41711</th>\n      <td>2013,Level 3,ZZ11,Food product manufacturing,P...</td>\n    </tr>\n    <tr>\n      <th>41712</th>\n      <td>2013,Level 3,ZZ11,Food product manufacturing,P...</td>\n    </tr>\n    <tr>\n      <th>41713</th>\n      <td>2013,Level 3,ZZ11,Food product manufacturing,P...</td>\n    </tr>\n    <tr>\n      <th>41714</th>\n      <td>2013,Level 3,ZZ11,Food product manufacturing,P...</td>\n    </tr>\n  </tbody>\n</table>\n</div>"
     },
     "execution_count": 9,
     "metadata": {},
     "output_type": "execute_result"
    }
   ],
   "source": [
    "# Read the last n rows\n",
    "df.tail(5)"
   ],
   "metadata": {
    "collapsed": false,
    "ExecuteTime": {
     "end_time": "2023-11-17T16:17:46.919509500Z",
     "start_time": "2023-11-17T16:17:46.799722300Z"
    }
   },
   "id": "16664cbd2d7bce24"
  },
  {
   "cell_type": "code",
   "execution_count": 11,
   "outputs": [
    {
     "data": {
      "text/plain": "(41715, 1)"
     },
     "execution_count": 11,
     "metadata": {},
     "output_type": "execute_result"
    }
   ],
   "source": [
    "# get rows and columns\n",
    "df.shape"
   ],
   "metadata": {
    "collapsed": false,
    "ExecuteTime": {
     "end_time": "2023-11-17T16:19:43.001968800Z",
     "start_time": "2023-11-17T16:19:42.966378600Z"
    }
   },
   "id": "5bf261b40391f280"
  },
  {
   "cell_type": "code",
   "execution_count": 13,
   "outputs": [
    {
     "data": {
      "text/plain": "pandas.core.frame.DataFrame"
     },
     "execution_count": 13,
     "metadata": {},
     "output_type": "execute_result"
    }
   ],
   "source": [
    "type(df)"
   ],
   "metadata": {
    "collapsed": false,
    "ExecuteTime": {
     "end_time": "2023-11-17T16:34:51.674444700Z",
     "start_time": "2023-11-17T16:34:51.635060400Z"
    }
   },
   "id": "4f1a0c377e458ca0"
  },
  {
   "cell_type": "code",
   "execution_count": 14,
   "outputs": [
    {
     "data": {
      "text/plain": "       Year,Industry_aggregation_NZSIOC,Industry_code_NZSIOC,Industry_name_NZSIOC,Units,Variable_code,Variable_name,Variable_category,Value,Industry_code_ANZSIC06\ncount                                               41715                                                                                                         \nunique                                              41715                                                                                                         \ntop     2021,Level 1,99999,All industries,Dollars (mil...                                                                                                         \nfreq                                                    1                                                                                                         ",
      "text/html": "<div>\n<style scoped>\n    .dataframe tbody tr th:only-of-type {\n        vertical-align: middle;\n    }\n\n    .dataframe tbody tr th {\n        vertical-align: top;\n    }\n\n    .dataframe thead th {\n        text-align: right;\n    }\n</style>\n<table border=\"1\" class=\"dataframe\">\n  <thead>\n    <tr style=\"text-align: right;\">\n      <th></th>\n      <th>Year,Industry_aggregation_NZSIOC,Industry_code_NZSIOC,Industry_name_NZSIOC,Units,Variable_code,Variable_name,Variable_category,Value,Industry_code_ANZSIC06</th>\n    </tr>\n  </thead>\n  <tbody>\n    <tr>\n      <th>count</th>\n      <td>41715</td>\n    </tr>\n    <tr>\n      <th>unique</th>\n      <td>41715</td>\n    </tr>\n    <tr>\n      <th>top</th>\n      <td>2021,Level 1,99999,All industries,Dollars (mil...</td>\n    </tr>\n    <tr>\n      <th>freq</th>\n      <td>1</td>\n    </tr>\n  </tbody>\n</table>\n</div>"
     },
     "execution_count": 14,
     "metadata": {},
     "output_type": "execute_result"
    }
   ],
   "source": [
    "df.describe()"
   ],
   "metadata": {
    "collapsed": false,
    "ExecuteTime": {
     "end_time": "2023-11-17T17:20:22.207227400Z",
     "start_time": "2023-11-17T17:20:22.169000200Z"
    }
   },
   "id": "ef9df318203bbd77"
  },
  {
   "cell_type": "code",
   "execution_count": null,
   "outputs": [],
   "source": [],
   "metadata": {
    "collapsed": false
   },
   "id": "b65228ab27ae5fde"
  },
  {
   "cell_type": "code",
   "execution_count": 3,
   "outputs": [
    {
     "data": {
      "text/plain": "       Name  Age  Height\n0  John Doe   21   170.0",
      "text/html": "<div>\n<style scoped>\n    .dataframe tbody tr th:only-of-type {\n        vertical-align: middle;\n    }\n\n    .dataframe tbody tr th {\n        vertical-align: top;\n    }\n\n    .dataframe thead th {\n        text-align: right;\n    }\n</style>\n<table border=\"1\" class=\"dataframe\">\n  <thead>\n    <tr style=\"text-align: right;\">\n      <th></th>\n      <th>Name</th>\n      <th>Age</th>\n      <th>Height</th>\n    </tr>\n  </thead>\n  <tbody>\n    <tr>\n      <th>0</th>\n      <td>John Doe</td>\n      <td>21</td>\n      <td>170.0</td>\n    </tr>\n  </tbody>\n</table>\n</div>"
     },
     "execution_count": 3,
     "metadata": {},
     "output_type": "execute_result"
    }
   ],
   "source": [
    "import pandas as pd\n",
    "student = {\n",
    "    \"Name\": \"John Doe\",\n",
    "    \"Age\": 21,\n",
    "    \"Height\": 170.0\n",
    "}\n",
    "# The index specifies that the DataFrame should have one row \n",
    "df1 = pd.DataFrame(student, index=[0])\n",
    "df1"
   ],
   "metadata": {
    "collapsed": false,
    "ExecuteTime": {
     "end_time": "2023-11-17T23:16:47.577867700Z",
     "start_time": "2023-11-17T23:16:47.552987100Z"
    }
   },
   "id": "c81042748002c70e"
  },
  {
   "cell_type": "code",
   "execution_count": null,
   "outputs": [],
   "source": [],
   "metadata": {
    "collapsed": false
   },
   "id": "64ea5e012ef18fb0"
  }
 ],
 "metadata": {
  "kernelspec": {
   "display_name": "Python 3",
   "language": "python",
   "name": "python3"
  },
  "language_info": {
   "codemirror_mode": {
    "name": "ipython",
    "version": 2
   },
   "file_extension": ".py",
   "mimetype": "text/x-python",
   "name": "python",
   "nbconvert_exporter": "python",
   "pygments_lexer": "ipython2",
   "version": "2.7.6"
  }
 },
 "nbformat": 4,
 "nbformat_minor": 5
}
