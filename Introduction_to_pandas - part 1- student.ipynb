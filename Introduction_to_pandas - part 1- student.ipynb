{
 "cells": [
  {
   "cell_type": "markdown",
   "id": "34c11127",
   "metadata": {},
   "source": [
    "# Pandas\n",
    "\n",
    "Pandas is a powerful data analysis library for Python. \n",
    "\n",
    "It provides two main data structures: \n",
    "\n",
    " - **DataFrame** \n",
    " - **Series**\n",
    " \n",
    "A DataFrame is a key data structure in data analysis and manipulation in the context of Python programming language.\n",
    "\n",
    "Pandas provides a wide range of functions and methods specifically designed for working with DataFrames. \n",
    "\n",
    "These functions and methods allow users to perform tasks such as data cleaning, filtering, grouping, merging, and statistical analysis efficiently and effectively. \n",
    "\n",
    "Pandas simplifies complex data operations \n",
    "\n",
    "Pandas is a valuable module for data scientists, analysts, and researchers working with tabular data..\n"
   ]
  },
  {
   "cell_type": "code",
   "execution_count": null,
   "id": "7bdec374",
   "metadata": {},
   "outputs": [],
   "source": [
    "import pandas as pd"
   ]
  },
  {
   "cell_type": "code",
   "execution_count": null,
   "id": "42cc43b3",
   "metadata": {},
   "outputs": [],
   "source": [
    "data = {'Name':['Alice','Bob','Charlie'],\n",
    "       'Age':[21,20,22]}\n",
    "\n",
    "print(data)"
   ]
  },
  {
   "cell_type": "code",
   "execution_count": null,
   "id": "2acbdbe7",
   "metadata": {},
   "outputs": [],
   "source": [
    "# Creating a DataFrame\n",
    "\n",
    "df = pd.DataFrame(data)\n",
    "student = {\"Name\": ['Anna', 'Mark', 'Vanessa'], \"Favorite Subjects\": [\"Theory\", \"Python\",\"Data Structures\"], 'Age': [21,22,19]}\n",
    "df2 = pd.DataFrame(student)\n",
    "df2"
   ]
  },
  {
   "cell_type": "code",
   "execution_count": null,
   "id": "4281efcb",
   "metadata": {},
   "outputs": [],
   "source": [
    "print(type(data))\n",
    "print(type(df))"
   ]
  },
  {
   "cell_type": "code",
   "execution_count": null,
   "id": "1ab53f2c",
   "metadata": {},
   "outputs": [],
   "source": [
    "# accessing value by using key\n",
    "print(data['Name'])"
   ]
  },
  {
   "cell_type": "code",
   "execution_count": null,
   "id": "2f49836e",
   "metadata": {},
   "outputs": [],
   "source": [
    "# accessing value by using key and list index.\n",
    "print(data['Name'][0])"
   ]
  },
  {
   "cell_type": "code",
   "execution_count": null,
   "id": "33c65754",
   "metadata": {},
   "outputs": [],
   "source": [
    "#Accessing column\n",
    "# We use indexing to access columns\n",
    "df['Name']\n",
    "df2[\"Favorite Subjects\"]"
   ]
  },
  {
   "cell_type": "code",
   "execution_count": null,
   "id": "9339def1",
   "metadata": {},
   "outputs": [],
   "source": [
    "# how to access row in Name column? \n",
    "df['Name'][0]\n",
    "df2[\"Favorite Subjects\"][1]"
   ]
  },
  {
   "cell_type": "code",
   "execution_count": null,
   "id": "b0b009bd",
   "metadata": {},
   "outputs": [],
   "source": [
    "filtered_data = df[df['Age']>21]\n",
    "\n",
    "print(filtered_data)\n",
    "print(filtered_data['Name'])"
   ]
  },
  {
   "cell_type": "code",
   "execution_count": null,
   "id": "fdb6582c",
   "metadata": {},
   "outputs": [],
   "source": [
    "type(filtered_data)"
   ]
  },
  {
   "cell_type": "markdown",
   "id": "c7c22492",
   "metadata": {},
   "source": [
    "###   <font color='red'> (Question 1 for compensating missing score from midterm:)</font>\n",
    "Can you filter names whose age is greater than 21 from data dictionary?"
   ]
  },
  {
   "cell_type": "code",
   "execution_count": null,
   "id": "e2bf6bb2",
   "metadata": {},
   "outputs": [],
   "source": [
    "data = {\n",
    "    'Name': ['Alice', 'Bob', 'Charlie'],\n",
    "    'Age': [20, 21, 22]\n",
    "}\n",
    "\n",
    "\n",
    "# Solution 1\n",
    "# for i in range(len(data['Age'])):\n",
    "#     if data['Age'][i] > 21:\n",
    "#         print(data['Name'][i])\n",
    "\n",
    "# Solution 2\n",
    "# filtered = [each for i, each in enumerate(data['Name']) if data['Age'][i]>21]\n",
    "# filtered\n",
    "        \n",
    "# Expected output: Charlie\n",
    "for i in range(len(data[\"Age\"])):\n",
    "        if data[\"Age\"][i] > 21:\n",
    "            print(data[\"Name\"][i])\n",
    "\n",
    "\n",
    "        "
   ]
  },
  {
   "cell_type": "code",
   "execution_count": null,
   "id": "c4506f65",
   "metadata": {},
   "outputs": [],
   "source": [
    "#Performing calculations \n",
    "\n",
    "average_age = df['Age'].mean()\n",
    "average_age2 = df2[\"Age\"].mean()\n",
    "median = df2[\"Age\"].median()\n",
    "print(average_age)\n",
    "print(average_age2)\n",
    "print(median)"
   ]
  },
  {
   "cell_type": "markdown",
   "id": "1ebbe50d",
   "metadata": {},
   "source": [
    "###   <font color='red'> (Question 2 for compensating missing score from midterm:)</font>\n",
    "\n",
    "Can you calculate the average age from this 'data' dictionary? "
   ]
  },
  {
   "cell_type": "code",
   "execution_count": null,
   "id": "9eb15dc1",
   "metadata": {},
   "outputs": [],
   "source": [
    "data = {\n",
    "    'Name': ['Alice', 'Bob', 'Charlie'],\n",
    "    'Age': [21, 20, 22]\n",
    "}\n",
    "\n",
    "sum = 0 \n",
    "\n",
    "\n",
    "\n",
    "#solution 1\n",
    "# for i in range(len(data['Age'])):\n",
    "#     sum += data['Age'][i]\n",
    "    \n",
    "    \n",
    "# sum / len(data['Age'])\n",
    "\n",
    "# Solution 2\n",
    "\n",
    "for age in data['Age']:\n",
    "    sum = sum + age\n",
    "    \n",
    "print(sum/len(data['Age']))\n",
    "\n",
    "#solution 3\n",
    "\n",
    "#sum(data['Age'])/len(data['Age'])\n",
    "\n",
    "# Expected output: 21.0\n"
   ]
  },
  {
   "cell_type": "code",
   "execution_count": null,
   "id": "ef2920c4",
   "metadata": {},
   "outputs": [],
   "source": [
    "# Manipulating data\n",
    "\n",
    "df['Age']=df['Age']*2\n",
    "df2[\"Age\"] = df2[\"Age\"] + 2\n",
    "df2"
   ]
  },
  {
   "cell_type": "markdown",
   "id": "ace16702",
   "metadata": {},
   "source": [
    "This creates a DataFrame with 2 columns: 'Name' and 'Age', each containing corresponding data. You can perform various operations on this DataFrame, such as selecting specific columns, filtering rows, and applying mathematical operations to columns. \n",
    "\n",
    "**DataFrames** are a fundamental tool for data analysis in Python, providing a convenient and efficient way to work with structured data."
   ]
  },
  {
   "cell_type": "markdown",
   "id": "35c3364d",
   "metadata": {},
   "source": [
    "## Series DataStructure in Pandas\n",
    "\n",
    "In pandas, a Series is a one-dimensional labeled array that can hold any data type. It is a **fundamental data structure in pandas** and is similar to a **column in a spreadsheet or a single variable in statistics**. Series can be created from lists, arrays, dictionaries, or other Series objects.\n",
    "\n",
    "Here's a summary of key points about pandas Series:\n",
    "\n",
    "- One-Dimensional: Series is one-dimensional, meaning it consists of a single sequence of data values.\n",
    "\n",
    "- Labeled: Each element in a Series has a label, which is its index. You can access elements using these labels.\n",
    "\n",
    "- Heterogeneous Data Types: A Series can hold data of any data type, including integers, floats, strings, and objects.\n",
    "\n",
    "- Creation: Series can be created from various data structures such as lists, arrays, dictionaries, or even other Series objects.\n",
    "\n",
    "- Operations: You can perform various operations on Series, including mathematical operations, slicing, indexing, and more.\n"
   ]
  },
  {
   "cell_type": "code",
   "execution_count": null,
   "id": "ceb34ca6",
   "metadata": {},
   "outputs": [],
   "source": [
    "import pandas as pd\n",
    "\n",
    "# Creating a Series from a list\n",
    "data = [1, 2, 3, 4, 5]\n",
    "\n",
    "series = pd.Series(data)\n",
    "type(series)"
   ]
  },
  {
   "cell_type": "code",
   "execution_count": null,
   "id": "9146bc70",
   "metadata": {},
   "outputs": [],
   "source": [
    "print(type(data))\n",
    "print(type(series))"
   ]
  },
  {
   "cell_type": "code",
   "execution_count": null,
   "id": "39b2b54a",
   "metadata": {},
   "outputs": [],
   "source": [
    "# Accessing elements using index in list datastructure\n",
    "print(data[0])\n",
    "\n",
    "# Accessing elements using index in series data structure\n",
    "print(series[0])  "
   ]
  },
  {
   "cell_type": "code",
   "execution_count": null,
   "id": "6cbb7681",
   "metadata": {},
   "outputs": [],
   "source": [
    "# Performing mathematical operations\n",
    "result = series * 2\n",
    "print(result)\n",
    "print(series) # Not modified"
   ]
  },
  {
   "cell_type": "code",
   "execution_count": null,
   "id": "0b22750e",
   "metadata": {},
   "outputs": [],
   "source": [
    "# Creating a Series from a dictionary\n",
    "data_dict = {'a': 1, 'b': 2, 'c': 3}\n",
    "\n",
    "series_from_dict = pd.Series(data_dict)\n",
    "print(series_from_dict)\n",
    "# Notice that now the labels are not the indexes but the keys \n",
    "\n",
    "student2 = {'Anna': 21, \"Jane\": 23, \"Vanessa\": 24}\n",
    "s2 = pd.Series(student2)\n",
    "s2\n"
   ]
  },
  {
   "cell_type": "code",
   "execution_count": null,
   "id": "985e3317",
   "metadata": {},
   "outputs": [],
   "source": [
    "# Creating a Series with custom index\n",
    "\n",
    "data = [1, 2, 3, 4, 5]\n",
    "custom_index = ['A', 'B', 'C', 'D', 'E']\n",
    "\n",
    "series_with_custom_index = pd.Series(data, index=custom_index)\n",
    "\n",
    "print(series_with_custom_index)"
   ]
  },
  {
   "cell_type": "markdown",
   "id": "eb1fc7ee",
   "metadata": {},
   "source": [
    "**Note:** Understanding Series is essential for working effectively with pandas, especially when dealing with one-dimensional data or individual columns in a DataFrame."
   ]
  },
  {
   "cell_type": "code",
   "execution_count": null,
   "id": "1bce079d",
   "metadata": {},
   "outputs": [],
   "source": [
    "# Create series of cars\n",
    "cars = pd.Series(['BMW', 'Toyota', 'Opel'])\n",
    "\n",
    "#Create series of colors\n",
    "colors = pd.Series(['red', 'white', 'black'])\n",
    "\n",
    "# Creating a series with a custom index\n",
    "s3 = pd.Series(['BMW', 'Toyota', 'Opel'], index=colors)\n",
    "print(s3)\n",
    "\n",
    "#combine these data Series into dataFrame. \n",
    "\n",
    "car_df = pd.DataFrame({'Cars': cars, 'colors': colors})\n",
    "\n",
    "# print data frame\n",
    "# print(car_df)\n"
   ]
  },
  {
   "cell_type": "markdown",
   "id": "122f65b3",
   "metadata": {},
   "source": [
    "###   <font color='red'> (Question 3 for compensating missing score from midterm:)</font>\n",
    "\n",
    "- Make a list of different foods.\n",
    "- Make a list of different forint values (these can be integers).\n",
    "- Combine your lists of foods and dollar values into a DataFrame.\n",
    "\n",
    "\n",
    "Note: Make sure your two Series are the same size before combining them in a DataFrame."
   ]
  },
  {
   "cell_type": "code",
   "execution_count": null,
   "id": "a2c295da",
   "metadata": {},
   "outputs": [],
   "source": [
    "foods = [\"fries\", \"steak\", \"rice\"]\n",
    "forints = [12,45,67]\n",
    "frame = pd.DataFrame({\"Foods\": foods, \"Forints\": forints})\n",
    "print(frame)"
   ]
  },
  {
   "cell_type": "markdown",
   "id": "24b7920f",
   "metadata": {},
   "source": [
    "###   <font color='red'> (Question 4 for compensating missing score from midterm:)</font>\n",
    "Who can add your name and age into df by using series data structure? "
   ]
  },
  {
   "cell_type": "code",
   "execution_count": 49,
   "id": "cbdb707d",
   "metadata": {},
   "outputs": [
    {
     "ename": "AttributeError",
     "evalue": "'DataFrame' object has no attribute 'append'",
     "output_type": "error",
     "traceback": [
      "\u001b[1;31m---------------------------------------------------------------------------\u001b[0m",
      "\u001b[1;31mAttributeError\u001b[0m                            Traceback (most recent call last)",
      "\u001b[1;32m~\\AppData\\Local\\Temp\\ipykernel_24224\\276484420.py\u001b[0m in \u001b[0;36m?\u001b[1;34m()\u001b[0m\n\u001b[0;32m      6\u001b[0m \u001b[1;33m\u001b[0m\u001b[0m\n\u001b[0;32m      7\u001b[0m \u001b[0mnew_row\u001b[0m \u001b[1;33m=\u001b[0m \u001b[0mpd\u001b[0m\u001b[1;33m.\u001b[0m\u001b[0mSeries\u001b[0m\u001b[1;33m(\u001b[0m\u001b[1;33m{\u001b[0m\u001b[1;34m\"Name\"\u001b[0m\u001b[1;33m:\u001b[0m \u001b[1;34m\"Collins\"\u001b[0m\u001b[1;33m,\u001b[0m \u001b[1;34m\"Age\"\u001b[0m\u001b[1;33m:\u001b[0m \u001b[1;36m21\u001b[0m\u001b[1;33m}\u001b[0m\u001b[1;33m)\u001b[0m\u001b[1;33m\u001b[0m\u001b[1;33m\u001b[0m\u001b[0m\n\u001b[0;32m      8\u001b[0m \u001b[1;31m# df[\"Subjects\"] = [\"DSA\", \"Analysis\", \"Python\"] # Add a column\u001b[0m\u001b[1;33m\u001b[0m\u001b[1;33m\u001b[0m\u001b[0m\n\u001b[0;32m      9\u001b[0m \u001b[1;33m\u001b[0m\u001b[0m\n\u001b[1;32m---> 10\u001b[1;33m \u001b[0mdf\u001b[0m \u001b[1;33m=\u001b[0m \u001b[0mdf\u001b[0m\u001b[1;33m.\u001b[0m\u001b[0mappend\u001b[0m\u001b[1;33m(\u001b[0m\u001b[0mnew_row\u001b[0m\u001b[1;33m,\u001b[0m \u001b[0mignore_index\u001b[0m \u001b[1;33m=\u001b[0m \u001b[1;32mTrue\u001b[0m\u001b[1;33m)\u001b[0m\u001b[1;33m\u001b[0m\u001b[1;33m\u001b[0m\u001b[0m\n\u001b[0m\u001b[0;32m     11\u001b[0m \u001b[0mprint\u001b[0m\u001b[1;33m(\u001b[0m\u001b[0mdf\u001b[0m\u001b[1;33m)\u001b[0m\u001b[1;33m\u001b[0m\u001b[1;33m\u001b[0m\u001b[0m\n",
      "\u001b[1;32mc:\\Users\\bug10\\miniconda3\\Lib\\site-packages\\pandas\\core\\generic.py\u001b[0m in \u001b[0;36m?\u001b[1;34m(self, name)\u001b[0m\n\u001b[0;32m   6200\u001b[0m             \u001b[1;32mand\u001b[0m \u001b[0mname\u001b[0m \u001b[1;32mnot\u001b[0m \u001b[1;32min\u001b[0m \u001b[0mself\u001b[0m\u001b[1;33m.\u001b[0m\u001b[0m_accessors\u001b[0m\u001b[1;33m\u001b[0m\u001b[1;33m\u001b[0m\u001b[0m\n\u001b[0;32m   6201\u001b[0m             \u001b[1;32mand\u001b[0m \u001b[0mself\u001b[0m\u001b[1;33m.\u001b[0m\u001b[0m_info_axis\u001b[0m\u001b[1;33m.\u001b[0m\u001b[0m_can_hold_identifiers_and_holds_name\u001b[0m\u001b[1;33m(\u001b[0m\u001b[0mname\u001b[0m\u001b[1;33m)\u001b[0m\u001b[1;33m\u001b[0m\u001b[1;33m\u001b[0m\u001b[0m\n\u001b[0;32m   6202\u001b[0m         ):\n\u001b[0;32m   6203\u001b[0m             \u001b[1;32mreturn\u001b[0m \u001b[0mself\u001b[0m\u001b[1;33m[\u001b[0m\u001b[0mname\u001b[0m\u001b[1;33m]\u001b[0m\u001b[1;33m\u001b[0m\u001b[1;33m\u001b[0m\u001b[0m\n\u001b[1;32m-> 6204\u001b[1;33m         \u001b[1;32mreturn\u001b[0m \u001b[0mobject\u001b[0m\u001b[1;33m.\u001b[0m\u001b[0m__getattribute__\u001b[0m\u001b[1;33m(\u001b[0m\u001b[0mself\u001b[0m\u001b[1;33m,\u001b[0m \u001b[0mname\u001b[0m\u001b[1;33m)\u001b[0m\u001b[1;33m\u001b[0m\u001b[1;33m\u001b[0m\u001b[0m\n\u001b[0m",
      "\u001b[1;31mAttributeError\u001b[0m: 'DataFrame' object has no attribute 'append'"
     ]
    }
   ],
   "source": [
    "import pandas as pd\n",
    "data = {'Name':['Alice','Bob','Charlie'],\n",
    "       'Age':[21,20,22]}\n",
    "\n",
    "df = pd.DataFrame(data)\n",
    "\n",
    "\n",
    "new_row = pd.Series({\"Name\": \"Collins\", \"Age\": 21})\n",
    "# df[\"Subjects\"] = [\"DSA\", \"Analysis\", \"Python\"] # Add a column\n",
    "\n",
    "df = df.append(new_row, ignore_index = True)\n",
    "print(df)\n"
   ]
  },
  {
   "cell_type": "code",
   "execution_count": null,
   "id": "9a736f29",
   "metadata": {},
   "outputs": [],
   "source": [
    "print(df)"
   ]
  },
  {
   "cell_type": "markdown",
   "id": "d5976227",
   "metadata": {},
   "source": [
    "# 1. Importing/Loading data with pandas"
   ]
  },
  {
   "cell_type": "markdown",
   "id": "8868ebb2",
   "metadata": {},
   "source": [
    "Creating `Series` and `DataFrame`'s from scratch \n",
    "\n",
    "\n",
    "What we usually be doing is importing your data in the form of a `.csv` (comma separated value) or spreadsheet file. \n",
    "\n",
    "CSV is lightweigth, compatible with different apps, .... \n",
    "\n",
    "Pandas allows for easy importing of data like this through functions such as `pd.read_csv()` and `pd.read_excel()` (for Microsoft Excel files).\n",
    "\n",
    "Importing and converting data into a pandas `DataFrame`. \n",
    "\n",
    "**DataFrame** structured data is easy to manipulate and analyze. \n",
    "\n",
    "Having your data available in a `DataFrame` allows you to take advantage of all of pandas functionality on it.\n",
    "\n",
    "Another common practice you'll see is data being imported to `DataFrame` called `df` (short for `DataFrame`).\n",
    "\n"
   ]
  },
  {
   "cell_type": "code",
   "execution_count": null,
   "id": "305f7f46",
   "metadata": {},
   "outputs": [],
   "source": [
    "# import car sales data, take file name as a string\n",
    "car_sales_df = pd.read_csv('/home/gerel/Documents/DATA/car_sales.csv')"
   ]
  },
  {
   "cell_type": "code",
   "execution_count": null,
   "id": "e5b4b1b2",
   "metadata": {},
   "outputs": [],
   "source": [
    "type(car_sales_df)"
   ]
  },
  {
   "cell_type": "code",
   "execution_count": null,
   "id": "2f3def7f",
   "metadata": {},
   "outputs": [],
   "source": [
    "car_sales_df"
   ]
  },
  {
   "cell_type": "markdown",
   "id": "08450593",
   "metadata": {},
   "source": [
    "## 2. Exploring data\n",
    "\n",
    "One of the first things you'll want to do after you import some data into a pandas `DataFrame` is to start exploring it.\n",
    "\n",
    "pandas has many built in functions which allow you to quickly get information about a `DataFrame`.\n",
    "\n",
    "Let's explore some using the `car_sales` `DataFrame`."
   ]
  },
  {
   "cell_type": "code",
   "execution_count": null,
   "id": "75502133",
   "metadata": {},
   "outputs": [],
   "source": [
    "car_sales_df"
   ]
  },
  {
   "cell_type": "code",
   "execution_count": null,
   "id": "2ebbe850",
   "metadata": {},
   "outputs": [],
   "source": [
    "# .dtypes attribute shows us what datatype each column contains.\n",
    "car_sales_df.dtypes\n"
   ]
  },
  {
   "cell_type": "markdown",
   "id": "e29e5150",
   "metadata": {},
   "source": [
    "In the context of Pandas DataFrames, the \"object\" data type is mixed data type or columns where the data type is not specific (e.g., strings, numbers, or other Python objects). "
   ]
  },
  {
   "cell_type": "markdown",
   "id": "ad461edf",
   "metadata": {},
   "source": [
    "`.info()` shows a handful of useful information about a `DataFrame` such as: \n",
    "* How many entries (rows) there are \n",
    "* Whether there are missing values (if a columns non-null value is less than the number of entries, it has missing values)\n",
    "* The datatypes of each column"
   ]
  },
  {
   "cell_type": "code",
   "execution_count": null,
   "id": "3db8e413",
   "metadata": {},
   "outputs": [],
   "source": [
    "car_sales_df.info()"
   ]
  },
  {
   "cell_type": "markdown",
   "id": "1243b8fd",
   "metadata": {},
   "source": [
    "You can also call various statistical and mathematical methods such as `.mean()` or `.sum()` directly on a `DataFrame` or `Series`."
   ]
  },
  {
   "cell_type": "code",
   "execution_count": null,
   "id": "2714d35e",
   "metadata": {},
   "outputs": [],
   "source": [
    "#Invoking mean() function on DataFrame\n",
    "car_sales_df.mean()"
   ]
  },
  {
   "cell_type": "code",
   "execution_count": null,
   "id": "e348cf32",
   "metadata": {},
   "outputs": [],
   "source": [
    "car_sales_df.sum()"
   ]
  },
  {
   "cell_type": "code",
   "execution_count": null,
   "id": "419091e2",
   "metadata": {},
   "outputs": [],
   "source": [
    "car_prices = car_sales_df['Price']\n",
    "car_prices"
   ]
  },
  {
   "cell_type": "code",
   "execution_count": null,
   "id": "778c16cc",
   "metadata": {},
   "outputs": [],
   "source": [
    "type(car_prices)"
   ]
  },
  {
   "cell_type": "code",
   "execution_count": null,
   "id": "d7389878",
   "metadata": {},
   "outputs": [],
   "source": [
    "car_prices.sum()"
   ]
  },
  {
   "cell_type": "code",
   "execution_count": null,
   "id": "3dc7b906",
   "metadata": {},
   "outputs": [],
   "source": [
    "car_price = pd.Series(car_sales_df['Price'])\n",
    "# car_prices = car_sales_df['Price']"
   ]
  },
  {
   "cell_type": "code",
   "execution_count": null,
   "id": "eb5a35df",
   "metadata": {},
   "outputs": [],
   "source": [
    "car_price.sum()"
   ]
  },
  {
   "cell_type": "markdown",
   "id": "62b69501",
   "metadata": {},
   "source": [
    "\n",
    "\n",
    "`.columns` will show you all the columns of a `DataFrame`."
   ]
  },
  {
   "cell_type": "code",
   "execution_count": null,
   "id": "ed5b92b9",
   "metadata": {},
   "outputs": [],
   "source": [
    "car_sales_df.columns"
   ]
  },
  {
   "cell_type": "markdown",
   "id": "08086ab1",
   "metadata": {},
   "source": [
    "You can save them to a list which you could use later."
   ]
  },
  {
   "cell_type": "code",
   "execution_count": null,
   "id": "1581e0a1",
   "metadata": {},
   "outputs": [],
   "source": [
    "car_columns = car_sales_df.columns\n",
    "car_columns[0]"
   ]
  },
  {
   "cell_type": "markdown",
   "id": "2fe7b8ff",
   "metadata": {},
   "source": [
    "`.index` will show you the values in a `DataFrame`'s index (the column on the far left)."
   ]
  },
  {
   "cell_type": "code",
   "execution_count": null,
   "id": "07aa12ba",
   "metadata": {},
   "outputs": [],
   "source": [
    "car_sales_df.index"
   ]
  },
  {
   "cell_type": "code",
   "execution_count": null,
   "id": "edf732d6",
   "metadata": {},
   "outputs": [],
   "source": [
    "# show length of data frame\n",
    "len(car_sales_df)"
   ]
  },
  {
   "cell_type": "markdown",
   "id": "f194079e",
   "metadata": {},
   "source": [
    "So even though the length of our `car_sales` dataframe is 10, this means the indexes go from 0-9."
   ]
  }
 ],
 "metadata": {
  "kernelspec": {
   "display_name": "Python 3",
   "language": "python",
   "name": "python3"
  },
  "language_info": {
   "codemirror_mode": {
    "name": "ipython",
    "version": 3
   },
   "file_extension": ".py",
   "mimetype": "text/x-python",
   "name": "python",
   "nbconvert_exporter": "python",
   "pygments_lexer": "ipython3",
   "version": "3.11.5"
  }
 },
 "nbformat": 4,
 "nbformat_minor": 5
}
